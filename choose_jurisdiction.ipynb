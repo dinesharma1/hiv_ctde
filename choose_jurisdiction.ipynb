{
 "cells": [
  {
   "cell_type": "code",
   "execution_count": null,
   "id": "405e5791",
   "metadata": {},
   "outputs": [],
   "source": [
    "import numpy as np\n",
    "import pandas as pd\n",
    "import os\n",
    "import math\n",
    "import matplotlib.pyplot as plt\n",
    "from collections import defaultdict"
   ]
  },
  {
   "cell_type": "code",
   "execution_count": null,
   "id": "eed02255",
   "metadata": {},
   "outputs": [],
   "source": [
    "age_begin = 13\n",
    "age_end = 100\n",
    "risk_groups = ['HM', 'HF', 'MSM']\n",
    "num_risk = 3\n",
    "\n",
    "all_jur = 10\n",
    "age_groups = 88\n",
    "number_of_risk_groups = 3\n",
    "number_of_compartments = 22\n",
    "dt = 1/12\n",
    "\n",
    "num_age = 88\n",
    "num_comp = number_of_compartments-2\n",
    "\n",
    "prep_efficiency = 0.99\n",
    "\n",
    "unaware_index = (1,5,9,13,17)\n",
    "aware_no_care_index = (2,6,10,14,18)\n",
    "ART_VLS_index = (3,4,7,8,11,12,15,16,19,20)\n",
    "VLS_index = (4,8,12,16,20)\n",
    "\n",
    "\n",
    "pop_growth_rate = 0\n",
    "\n",
    "gamma = np.array([[0.5,0.5,0.5,0.5,1],\n",
    "                  [0.5,0.5,0.5,0.5,1],\n",
    "                  [0.5,0.5,0.5,0.5,1]])\n",
    "\n",
    "scaling_factor_dropout = np.array([[1,1,1,1,1,1,1,1,0,0],\n",
    "                                   [1,1,1,1,1,1,1,1,0,0],\n",
    "                                   [1,1,1,1,1,1,1,1,0,0]])"
   ]
  },
  {
   "cell_type": "code",
   "execution_count": null,
   "id": "f03b4fb3",
   "metadata": {},
   "outputs": [],
   "source": [
    "all_jurisdictions = [6001,6037,6059,6065,6067,6071,6073,6]\n",
    "\n",
    "num_jur = len(all_jurisdictions)"
   ]
  },
  {
   "cell_type": "code",
   "execution_count": null,
   "id": "8293abc5",
   "metadata": {},
   "outputs": [],
   "source": [
    "cluster1 = [6001]\n",
    "cluster2 = [6037]\n",
    "cluster3 = [6059]\n",
    "cluster4 = [6065]\n",
    "cluster5 = [6067]\n",
    "cluster6 = [6071]\n",
    "cluster7 = [6073]\n",
    "cluster8 = [6]"
   ]
  },
  {
   "cell_type": "code",
   "execution_count": null,
   "id": "19714ca0",
   "metadata": {},
   "outputs": [],
   "source": [
    "data_array_cluster = np.zeros((num_jur, number_of_risk_groups, age_groups, number_of_compartments))\n",
    "\n",
    "for jur in range(len(all_jurisdictions)):\n",
    "\n",
    "    df1 = pd.read_excel('./input_files/jurisdiction_pop_dist.xlsx', sheet_name=str(all_jurisdictions[jur]), index_col=0)\n",
    "    data_array_cluster[jur] = df1.iloc[:,3:].to_numpy().reshape(3,88,22)"
   ]
  },
  {
   "cell_type": "code",
   "execution_count": null,
   "id": "5fbdb88b",
   "metadata": {},
   "outputs": [],
   "source": [
    "total_pop = np.apply_over_axes(np.sum, data_array_cluster, [1,2,3]).reshape(num_jur,)\n",
    "total_pop = np.array([int(x) for x in total_pop])\n",
    "\n",
    "total_msm = list(np.apply_over_axes(np.sum, data_array_cluster, [2,3]).reshape(num_jur,3)[:,2])\n",
    "total_msm = np.array([int(x) for x in total_msm])"
   ]
  },
  {
   "cell_type": "code",
   "execution_count": null,
   "id": "bd726b8d",
   "metadata": {},
   "outputs": [],
   "source": [
    "df_prep = pd.read_excel('./input_files/Prep values.xlsx')"
   ]
  },
  {
   "cell_type": "code",
   "execution_count": null,
   "id": "b43609b2",
   "metadata": {},
   "outputs": [],
   "source": [
    "cluster1_index = np.array([0])\n",
    "cluster2_index = np.array([1])\n",
    "cluster3_index = np.array([2])\n",
    "cluster4_index = np.array([3])\n",
    "cluster5_index = np.array([4])\n",
    "cluster6_index = np.array([5])\n",
    "cluster7_index = np.array([6])\n",
    "cluster8_index = np.array([7])"
   ]
  },
  {
   "cell_type": "code",
   "execution_count": null,
   "id": "72ff5ba7",
   "metadata": {},
   "outputs": [],
   "source": [
    "df_prep_clus = df_prep.loc[df_prep['FIPS'].isin(all_jurisdictions)]"
   ]
  },
  {
   "cell_type": "code",
   "execution_count": null,
   "id": "6aa6a911",
   "metadata": {},
   "outputs": [],
   "source": [
    "jur_name = df_prep_clus['JUR'].to_list()"
   ]
  },
  {
   "cell_type": "code",
   "execution_count": null,
   "id": "3164e6da",
   "metadata": {},
   "outputs": [],
   "source": [
    "df_prep_clus['Total MSM'] = total_msm"
   ]
  },
  {
   "cell_type": "code",
   "execution_count": null,
   "id": "3b7f5a48",
   "metadata": {},
   "outputs": [],
   "source": [
    "prep_values = np.zeros((num_jur,num_risk))\n",
    "\n",
    "prep_rates_clus = df_prep_clus['Prep'].values\n",
    "\n",
    "prep_eligible = df_prep_clus['PrEP Eligible'].values\n",
    "\n",
    "prep_values[:,2] = prep_rates_clus/100"
   ]
  },
  {
   "cell_type": "code",
   "execution_count": null,
   "id": "5485b82b",
   "metadata": {},
   "outputs": [],
   "source": []
  }
 ],
 "metadata": {
  "kernelspec": {
   "display_name": "Python 3 (ipykernel)",
   "language": "python",
   "name": "python3"
  },
  "language_info": {
   "codemirror_mode": {
    "name": "ipython",
    "version": 3
   },
   "file_extension": ".py",
   "mimetype": "text/x-python",
   "name": "python",
   "nbconvert_exporter": "python",
   "pygments_lexer": "ipython3",
   "version": "3.9.12"
  }
 },
 "nbformat": 4,
 "nbformat_minor": 5
}
